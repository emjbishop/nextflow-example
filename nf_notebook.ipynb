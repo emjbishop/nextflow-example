{
  "cells": [
    {
      "cell_type": "markdown",
      "metadata": {
        "id": "921tcClfh0Cb"
      },
      "source": [
        "# Using Nextflow to convert TCRs\n",
        "\n",
        "This notebook converts some TCRs from 10X format to Adaptive using Nextflow and tcrconverter."
      ]
    },
    {
      "cell_type": "markdown",
      "metadata": {
        "id": "hAzyNyzdiDT5"
      },
      "source": [
        "## Setup\n",
        "\n",
        "First, clone the repository with the files we need.\n",
        "\n"
      ]
    },
    {
      "cell_type": "code",
      "execution_count": null,
      "metadata": {
        "colab": {
          "base_uri": "https://localhost:8080/"
        },
        "id": "VDO2B6ytiJEG",
        "outputId": "4d2936b5-fb0c-4458-9eb6-a66bb7aaf17c"
      },
      "outputs": [],
      "source": [
        "! git clone https://github.com/emjbishop/nextflow-example.git"
      ]
    },
    {
      "cell_type": "markdown",
      "metadata": {
        "id": "nmuoIeQ3imY6"
      },
      "source": [
        "Run the bash script that installs Nextflow and tcrconverter."
      ]
    },
    {
      "cell_type": "code",
      "execution_count": null,
      "metadata": {
        "colab": {
          "base_uri": "https://localhost:8080/"
        },
        "id": "1cOVcIooirR9",
        "outputId": "1a328831-c11d-4a63-a9fd-3da9867342bc"
      },
      "outputs": [],
      "source": [
        "! chmod +x /content/nextflow-example/notebook_setup.sh\n",
        "! /content/nextflow-example/notebook_setup.sh"
      ]
    },
    {
      "cell_type": "markdown",
      "metadata": {
        "id": "XhlU1O34jZYR"
      },
      "source": [
        "Confirm Nextflow is installed properly."
      ]
    },
    {
      "cell_type": "code",
      "execution_count": null,
      "metadata": {
        "colab": {
          "base_uri": "https://localhost:8080/"
        },
        "id": "EdKhVh01jbM8",
        "outputId": "ceac6737-e7d6-4da9-fab1-a29b74c1da83"
      },
      "outputs": [],
      "source": [
        "! nextflow info"
      ]
    },
    {
      "cell_type": "markdown",
      "metadata": {
        "id": "Cf3suiSGjs_E"
      },
      "source": [
        "# Conversion\n",
        "\n",
        "Take a look at the input data, in 10X format."
      ]
    },
    {
      "cell_type": "code",
      "execution_count": null,
      "metadata": {
        "colab": {
          "base_uri": "https://localhost:8080/",
          "height": 313
        },
        "id": "2ker-y_GijQY",
        "outputId": "4346846c-5f97-4b46-dcba-4e076fbb588c"
      },
      "outputs": [],
      "source": [
        "import pandas as pd\n",
        "\n",
        "pd.read_csv('/content/tcrconvert/tcrconvert/examples/tenx.csv')"
      ]
    },
    {
      "cell_type": "markdown",
      "metadata": {
        "id": "NqxN4kInjz27"
      },
      "source": [
        "Use the Nextflow pipeline to convert to Adaptive.\n",
        "\n",
        "Note that the input and output formats have already been written into the pipeline."
      ]
    },
    {
      "cell_type": "code",
      "execution_count": null,
      "metadata": {
        "colab": {
          "base_uri": "https://localhost:8080/"
        },
        "id": "102S_5EiijS9",
        "outputId": "77ba855f-b983-45fc-f6e4-7c5aa4e79866"
      },
      "outputs": [],
      "source": [
        "! nextflow run nextflow-example/tcrconverter.nf \\\n",
        "--input /content/tcrconvert/tcrconvert/examples/tenx.csv \\\n",
        "--output /content/out.tsv"
      ]
    },
    {
      "cell_type": "markdown",
      "metadata": {
        "id": "7UOBNebvkI1X"
      },
      "source": [
        "Now look at the output."
      ]
    },
    {
      "cell_type": "code",
      "execution_count": null,
      "metadata": {
        "colab": {
          "base_uri": "https://localhost:8080/",
          "height": 313
        },
        "id": "xrSTUtlPijVU",
        "outputId": "57d1fb9d-415a-4f20-e7a9-dd7f96d8ad09"
      },
      "outputs": [],
      "source": [
        "pd.read_csv('out.tsv', sep = '\\t')"
      ]
    }
  ],
  "metadata": {
    "colab": {
      "provenance": []
    },
    "kernelspec": {
      "display_name": "Python 3",
      "name": "python3"
    },
    "language_info": {
      "name": "python"
    }
  },
  "nbformat": 4,
  "nbformat_minor": 0
}
